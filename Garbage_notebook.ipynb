{
  "nbformat": 4,
  "nbformat_minor": 0,
  "metadata": {
    "colab": {
      "name": "Garbage_notebook.ipynb",
      "provenance": [],
      "collapsed_sections": [],
      "include_colab_link": true
    },
    "kernelspec": {
      "name": "python3",
      "display_name": "Python 3"
    },
    "accelerator": "GPU"
  },
  "cells": [
    {
      "cell_type": "markdown",
      "metadata": {
        "id": "view-in-github",
        "colab_type": "text"
      },
      "source": [
        "<a href=\"https://colab.research.google.com/github/filmerxyz/GarbageClassification/blob/master/Garbage_notebook.ipynb\" target=\"_parent\"><img src=\"https://colab.research.google.com/assets/colab-badge.svg\" alt=\"Open In Colab\"/></a>"
      ]
    },
    {
      "cell_type": "markdown",
      "metadata": {
        "id": "aOeO-jVXS8Jp",
        "colab_type": "text"
      },
      "source": [
        "# Install Split Folders"
      ]
    },
    {
      "cell_type": "code",
      "metadata": {
        "id": "adPz6VH2HrFr",
        "colab_type": "code",
        "colab": {
          "base_uri": "https://localhost:8080/",
          "height": 35
        },
        "outputId": "91750e3b-491a-495d-a31b-ec89373e1281"
      },
      "source": [
        "!pip install split-folders"
      ],
      "execution_count": null,
      "outputs": [
        {
          "output_type": "stream",
          "text": [
            "Requirement already satisfied: split-folders in /usr/local/lib/python3.6/dist-packages (0.3.1)\n"
          ],
          "name": "stdout"
        }
      ]
    },
    {
      "cell_type": "markdown",
      "metadata": {
        "id": "Kuvn3Rt-TQt8",
        "colab_type": "text"
      },
      "source": [
        "# Import Libraries"
      ]
    },
    {
      "cell_type": "code",
      "metadata": {
        "id": "OBD_27-cHlLw",
        "colab_type": "code",
        "colab": {}
      },
      "source": [
        "import tensorflow as tf\n",
        "from tensorflow import keras\n",
        "from tensorflow.keras import backend as K\n",
        "from tensorflow.keras import models\n",
        "from tensorflow.keras.models import Sequential, Model\n",
        "from tensorflow.keras.layers import Conv2D, MaxPooling2D, Dense, Dropout, Activation, Flatten, BatchNormalization, GlobalAveragePooling2D\n",
        "from tensorflow.keras.preprocessing import image\n",
        "from tensorflow.keras.preprocessing.image import ImageDataGenerator, load_img, img_to_array\n",
        "from tensorflow.keras.applications.imagenet_utils import preprocess_input\n",
        "from tensorflow.keras.optimizers import Adam\n",
        "from tensorflow.keras.callbacks import ModelCheckpoint, EarlyStopping, ReduceLROnPlateau\n",
        "from tensorflow.keras import regularizers\n",
        "\n",
        "from sklearn.utils import class_weight\n",
        "from sklearn.metrics import classification_report, confusion_matrix, precision_recall_fscore_support\n",
        "\n",
        "import pandas as pd\n",
        "import numpy as np\n",
        "import matplotlib.pyplot as plt\n",
        "import itertools\n",
        "\n",
        "import shutil\n",
        "import os\n",
        "from os.path import join\n",
        "\n",
        "import split_folders\n",
        "\n",
        "from garbage_utils import *"
      ],
      "execution_count": null,
      "outputs": []
    },
    {
      "cell_type": "markdown",
      "metadata": {
        "id": "RfqL0GZzTjjT",
        "colab_type": "text"
      },
      "source": [
        "# Hyperparameters"
      ]
    },
    {
      "cell_type": "code",
      "metadata": {
        "id": "E6tWs3wgL3u3",
        "colab_type": "code",
        "colab": {}
      },
      "source": [
        "IMG_WIDTH = 224\n",
        "IMG_HEIGHT = 224\n",
        "\n",
        "BATCH_SIZE = 32\n",
        "\n",
        "LR = 3e-5\n",
        "\n",
        "EPOCHS = 30"
      ],
      "execution_count": null,
      "outputs": []
    },
    {
      "cell_type": "markdown",
      "metadata": {
        "id": "fG9e20t_TS1u",
        "colab_type": "text"
      },
      "source": [
        "# Data"
      ]
    },
    {
      "cell_type": "code",
      "metadata": {
        "id": "spDoWnPBIpTr",
        "colab_type": "code",
        "colab": {
          "base_uri": "https://localhost:8080/",
          "height": 35
        },
        "outputId": "c1bfb9b1-6aba-4579-edd5-247fe360441f"
      },
      "source": [
        "!git clone https://github.com/EvilPickle-PCSHSPT/GarbageClassification_dataset"
      ],
      "execution_count": null,
      "outputs": [
        {
          "output_type": "stream",
          "text": [
            "fatal: destination path 'GarbageClassification_dataset' already exists and is not an empty directory.\n"
          ],
          "name": "stdout"
        }
      ]
    },
    {
      "cell_type": "code",
      "metadata": {
        "id": "gK3AJYM9LBmJ",
        "colab_type": "code",
        "colab": {
          "base_uri": "https://localhost:8080/",
          "height": 35
        },
        "outputId": "c8c4d43f-93d6-41c1-f174-46befad016d2"
      },
      "source": [
        "mkdir_dir('/content/data_folder')"
      ],
      "execution_count": null,
      "outputs": [
        {
          "output_type": "stream",
          "text": [
            "Directory  /content/data_folder  already exists\n"
          ],
          "name": "stdout"
        }
      ]
    },
    {
      "cell_type": "markdown",
      "metadata": {
        "id": "FVgPdYS-TgOj",
        "colab_type": "text"
      },
      "source": [
        "## Split"
      ]
    },
    {
      "cell_type": "code",
      "metadata": {
        "id": "Kmxkx8NbLDQq",
        "colab_type": "code",
        "colab": {
          "base_uri": "https://localhost:8080/",
          "height": 35
        },
        "outputId": "91a8fbc6-e986-404a-c324-c0bff8271c58"
      },
      "source": [
        "split_folders.ratio('/content/GarbageClassification_dataset/images', \n",
        "                    output='/content/data_folder', \n",
        "                    seed=1337, \n",
        "                    ratio=(0.63, 0.27, 0.10))"
      ],
      "execution_count": null,
      "outputs": [
        {
          "output_type": "stream",
          "text": [
            "Copying files: 2527 files [00:00, 4729.31 files/s]\n"
          ],
          "name": "stderr"
        }
      ]
    },
    {
      "cell_type": "code",
      "metadata": {
        "id": "dZRy9zxaLo_l",
        "colab_type": "code",
        "colab": {}
      },
      "source": [
        "train_path = '/content/data_folder/train'\n",
        "val_path = '/content/data_folder/val'\n",
        "test_path = '/content/data_folder/test'"
      ],
      "execution_count": null,
      "outputs": []
    },
    {
      "cell_type": "code",
      "metadata": {
        "id": "AsoDb3Z_Ly4U",
        "colab_type": "code",
        "colab": {}
      },
      "source": [
        "train_gen = ImageDataGenerator(rescale=1. / 255,\n",
        "                               rotation_range=0,\n",
        "                               width_shift_range=0.3,\n",
        "                               height_shift_range=0.3,\n",
        "                               horizontal_flip=True,\n",
        "                               vertical_flip=True,)\n",
        "\n",
        "val_gen = ImageDataGenerator(rescale=1. / 255)\n",
        "\n",
        "test_gen = ImageDataGenerator(rescale=1. / 255)"
      ],
      "execution_count": null,
      "outputs": []
    },
    {
      "cell_type": "code",
      "metadata": {
        "id": "CeKuHrNyL5FD",
        "colab_type": "code",
        "colab": {
          "base_uri": "https://localhost:8080/",
          "height": 71
        },
        "outputId": "a9652d76-edf3-4b05-8314-70e653f3cf79"
      },
      "source": [
        "train_datagen = train_gen.flow_from_directory(batch_size=BATCH_SIZE,\n",
        "                                          directory=train_path,\n",
        "                                          shuffle=True,\n",
        "                                          target_size=(IMG_WIDTH, IMG_HEIGHT), #(224,224)\n",
        "                                          class_mode='categorical')\n",
        "\n",
        "val_datagen = val_gen.flow_from_directory(batch_size=BATCH_SIZE,\n",
        "                                          directory=val_path,\n",
        "                                          shuffle=True,\n",
        "                                          target_size=(IMG_WIDTH, IMG_HEIGHT), #(224,224)\n",
        "                                          class_mode='categorical')\n",
        "\n",
        "test_datagen = test_gen.flow_from_directory(batch_size=1,\n",
        "                                          directory=test_path,\n",
        "                                          shuffle=False,\n",
        "                                          target_size=(IMG_WIDTH, IMG_HEIGHT), #(224,224)\n",
        "                                          class_mode=None)"
      ],
      "execution_count": null,
      "outputs": [
        {
          "output_type": "stream",
          "text": [
            "Found 1589 images belonging to 6 classes.\n",
            "Found 679 images belonging to 6 classes.\n",
            "Found 259 images belonging to 6 classes.\n"
          ],
          "name": "stdout"
        }
      ]
    },
    {
      "cell_type": "markdown",
      "metadata": {
        "id": "5Jm0YOzcTVHk",
        "colab_type": "text"
      },
      "source": [
        "# Model"
      ]
    },
    {
      "cell_type": "code",
      "metadata": {
        "id": "_mDKOjo8L70Q",
        "colab_type": "code",
        "colab": {}
      },
      "source": [
        "def build_model():\n",
        "    base_model = tf.keras.applications.nasnet.NASNetMobile(input_shape=(IMG_WIDTH, IMG_HEIGHT, 3), include_top=False, weights='imagenet')\n",
        "    base_model.trainable = True\n",
        "\n",
        "    average_pooling_layer = tf.keras.layers.GlobalAveragePooling2D()(base_model.output)\n",
        "    prediction_layer = tf.keras.layers.Dense(units=6, activation='softmax', name='prediction')(average_pooling_layer)\n",
        "    model = tf.keras.models.Model(inputs=base_model.input, outputs=prediction_layer)\n",
        "    \n",
        "    return model"
      ],
      "execution_count": null,
      "outputs": []
    },
    {
      "cell_type": "code",
      "metadata": {
        "id": "d5EZjG2UMDsA",
        "colab_type": "code",
        "colab": {}
      },
      "source": [
        "model = build_model()"
      ],
      "execution_count": null,
      "outputs": []
    },
    {
      "cell_type": "code",
      "metadata": {
        "id": "KnfBGnABMqUL",
        "colab_type": "code",
        "colab": {}
      },
      "source": [
        "model.compile(optimizer=Adam(LR), loss='categorical_crossentropy', metrics=['accuracy'])"
      ],
      "execution_count": null,
      "outputs": []
    },
    {
      "cell_type": "code",
      "metadata": {
        "id": "26ULnL-3MIuy",
        "colab_type": "code",
        "colab": {}
      },
      "source": [
        "model_checkpoint = ModelCheckpoint(filepath='/content/garbage_model.h5', save_best_only=True, monitor='val_loss', mode='min')"
      ],
      "execution_count": null,
      "outputs": []
    },
    {
      "cell_type": "code",
      "metadata": {
        "id": "a5TWOZpEMFdq",
        "colab_type": "code",
        "colab": {
          "base_uri": "https://localhost:8080/",
          "height": 1000
        },
        "outputId": "b48193f4-6b4b-4dca-fc29-40876f8442a9"
      },
      "source": [
        "history = model.fit(train_datagen,\n",
        "                    validation_data=val_datagen,\n",
        "                    epochs=EPOCHS,\n",
        "                    callbacks=[model_checkpoint],\n",
        "                    verbose=1)"
      ],
      "execution_count": null,
      "outputs": [
        {
          "output_type": "stream",
          "text": [
            "Epoch 1/30\n",
            "50/50 [==============================] - 38s 754ms/step - loss: 1.5970 - accuracy: 0.3757 - val_loss: 1.4036 - val_accuracy: 0.4831\n",
            "Epoch 2/30\n",
            "50/50 [==============================] - 33s 660ms/step - loss: 1.1297 - accuracy: 0.6117 - val_loss: 1.1027 - val_accuracy: 0.6141\n",
            "Epoch 3/30\n",
            "50/50 [==============================] - 33s 665ms/step - loss: 0.8683 - accuracy: 0.7036 - val_loss: 0.9622 - val_accuracy: 0.6686\n",
            "Epoch 4/30\n",
            "50/50 [==============================] - 33s 662ms/step - loss: 0.6672 - accuracy: 0.7722 - val_loss: 0.8171 - val_accuracy: 0.7216\n",
            "Epoch 5/30\n",
            "50/50 [==============================] - 33s 659ms/step - loss: 0.5797 - accuracy: 0.8112 - val_loss: 0.7419 - val_accuracy: 0.7526\n",
            "Epoch 6/30\n",
            "50/50 [==============================] - 33s 659ms/step - loss: 0.4938 - accuracy: 0.8307 - val_loss: 0.6865 - val_accuracy: 0.7673\n",
            "Epoch 7/30\n",
            "50/50 [==============================] - 33s 658ms/step - loss: 0.4146 - accuracy: 0.8660 - val_loss: 0.6492 - val_accuracy: 0.7776\n",
            "Epoch 8/30\n",
            "50/50 [==============================] - 33s 658ms/step - loss: 0.3486 - accuracy: 0.8880 - val_loss: 0.6191 - val_accuracy: 0.7850\n",
            "Epoch 9/30\n",
            "50/50 [==============================] - 34s 671ms/step - loss: 0.3269 - accuracy: 0.8874 - val_loss: 0.5930 - val_accuracy: 0.8012\n",
            "Epoch 10/30\n",
            "50/50 [==============================] - 33s 660ms/step - loss: 0.2798 - accuracy: 0.9094 - val_loss: 0.5743 - val_accuracy: 0.8085\n",
            "Epoch 11/30\n",
            "50/50 [==============================] - 33s 659ms/step - loss: 0.2373 - accuracy: 0.9339 - val_loss: 0.5635 - val_accuracy: 0.7938\n",
            "Epoch 12/30\n",
            "50/50 [==============================] - 33s 662ms/step - loss: 0.2104 - accuracy: 0.9320 - val_loss: 0.5275 - val_accuracy: 0.8115\n",
            "Epoch 13/30\n",
            "50/50 [==============================] - 33s 651ms/step - loss: 0.1940 - accuracy: 0.9427 - val_loss: 0.4977 - val_accuracy: 0.8306\n",
            "Epoch 14/30\n",
            "50/50 [==============================] - 30s 602ms/step - loss: 0.1694 - accuracy: 0.9559 - val_loss: 0.5072 - val_accuracy: 0.8262\n",
            "Epoch 15/30\n",
            "50/50 [==============================] - 30s 599ms/step - loss: 0.1458 - accuracy: 0.9610 - val_loss: 0.5211 - val_accuracy: 0.8144\n",
            "Epoch 16/30\n",
            "50/50 [==============================] - 32s 645ms/step - loss: 0.1305 - accuracy: 0.9717 - val_loss: 0.4724 - val_accuracy: 0.8351\n",
            "Epoch 17/30\n",
            "50/50 [==============================] - 30s 595ms/step - loss: 0.1261 - accuracy: 0.9666 - val_loss: 0.4843 - val_accuracy: 0.8351\n",
            "Epoch 18/30\n",
            "50/50 [==============================] - 30s 596ms/step - loss: 0.1251 - accuracy: 0.9635 - val_loss: 0.4876 - val_accuracy: 0.8336\n",
            "Epoch 19/30\n",
            "50/50 [==============================] - 30s 595ms/step - loss: 0.0996 - accuracy: 0.9736 - val_loss: 0.5105 - val_accuracy: 0.8233\n",
            "Epoch 20/30\n",
            "50/50 [==============================] - 30s 591ms/step - loss: 0.1030 - accuracy: 0.9723 - val_loss: 0.4954 - val_accuracy: 0.8262\n",
            "Epoch 21/30\n",
            "50/50 [==============================] - 30s 597ms/step - loss: 0.0895 - accuracy: 0.9748 - val_loss: 0.4774 - val_accuracy: 0.8365\n",
            "Epoch 22/30\n",
            "50/50 [==============================] - 33s 651ms/step - loss: 0.0810 - accuracy: 0.9811 - val_loss: 0.4602 - val_accuracy: 0.8424\n",
            "Epoch 23/30\n",
            "50/50 [==============================] - 32s 649ms/step - loss: 0.0756 - accuracy: 0.9817 - val_loss: 0.4471 - val_accuracy: 0.8439\n",
            "Epoch 24/30\n",
            "50/50 [==============================] - 33s 652ms/step - loss: 0.0688 - accuracy: 0.9811 - val_loss: 0.4326 - val_accuracy: 0.8616\n",
            "Epoch 25/30\n",
            "50/50 [==============================] - 30s 603ms/step - loss: 0.0703 - accuracy: 0.9773 - val_loss: 0.4594 - val_accuracy: 0.8439\n",
            "Epoch 26/30\n",
            "50/50 [==============================] - 30s 603ms/step - loss: 0.0561 - accuracy: 0.9887 - val_loss: 0.4466 - val_accuracy: 0.8557\n",
            "Epoch 27/30\n",
            "50/50 [==============================] - 30s 599ms/step - loss: 0.0648 - accuracy: 0.9830 - val_loss: 0.4432 - val_accuracy: 0.8454\n",
            "Epoch 28/30\n",
            "50/50 [==============================] - 33s 656ms/step - loss: 0.0481 - accuracy: 0.9855 - val_loss: 0.4195 - val_accuracy: 0.8571\n",
            "Epoch 29/30\n",
            "50/50 [==============================] - 33s 659ms/step - loss: 0.0537 - accuracy: 0.9836 - val_loss: 0.4138 - val_accuracy: 0.8675\n",
            "Epoch 30/30\n",
            "50/50 [==============================] - 33s 659ms/step - loss: 0.0441 - accuracy: 0.9887 - val_loss: 0.4094 - val_accuracy: 0.8719\n"
          ],
          "name": "stdout"
        }
      ]
    },
    {
      "cell_type": "markdown",
      "metadata": {
        "id": "tMdfyN1oTnF0",
        "colab_type": "text"
      },
      "source": [
        "# Graph"
      ]
    },
    {
      "cell_type": "markdown",
      "metadata": {
        "id": "6qwb4bVDTorH",
        "colab_type": "text"
      },
      "source": [
        "## Accuracy"
      ]
    },
    {
      "cell_type": "code",
      "metadata": {
        "id": "oGnVgQtjMfL5",
        "colab_type": "code",
        "colab": {
          "base_uri": "https://localhost:8080/",
          "height": 295
        },
        "outputId": "cc2c232e-f041-4014-f63f-fc24d565eea3"
      },
      "source": [
        "plt.plot(history.history['accuracy'])\n",
        "plt.plot(history.history['val_accuracy'])\n",
        "plt.ylabel('accuracy')\n",
        "plt.xlabel('epoch')\n",
        "plt.legend(['train', 'val'], loc='upper left')\n",
        "plt.title('accuracy')\n",
        "plt.show()"
      ],
      "execution_count": null,
      "outputs": [
        {
          "output_type": "display_data",
          "data": {
            "image/png": "[encoded data removed]",
            "text/plain": [
              "<Figure size 432x288 with 1 Axes>"
            ]
          },
          "metadata": {
            "tags": [],
            "needs_background": "light"
          }
        }
      ]
    },
    {
      "cell_type": "markdown",
      "metadata": {
        "id": "SMcHnqMDTp4J",
        "colab_type": "text"
      },
      "source": [
        "# Loss"
      ]
    },
    {
      "cell_type": "code",
      "metadata": {
        "id": "DM8W5RJvMhcc",
        "colab_type": "code",
        "colab": {
          "base_uri": "https://localhost:8080/",
          "height": 295
        },
        "outputId": "5b0e9c16-8c6d-4af1-952e-f09d3edd9e8a"
      },
      "source": [
        "plt.plot(history.history['loss'])\n",
        "plt.plot(history.history['val_loss'])\n",
        "plt.ylabel('loss')\n",
        "plt.xlabel('epoch')\n",
        "plt.legend(['train', 'val'], loc='upper left')\n",
        "plt.title('loss')\n",
        "plt.show()"
      ],
      "execution_count": null,
      "outputs": [
        {
          "output_type": "display_data",
          "data": {
            "image/png": "[encoded data removed]",
            "text/plain": [
              "<Figure size 432x288 with 1 Axes>"
            ]
          },
          "metadata": {
            "tags": [],
            "needs_background": "light"
          }
        }
      ]
    },
    {
      "cell_type": "markdown",
      "metadata": {
        "id": "Mx06xqYITYom",
        "colab_type": "text"
      },
      "source": [
        "# Evaluate"
      ]
    },
    {
      "cell_type": "code",
      "metadata": {
        "id": "wTaBO4idQ4UJ",
        "colab_type": "code",
        "colab": {}
      },
      "source": [
        "test_model = tf.keras.models.load_model('/content/garbage_model.h5')"
      ],
      "execution_count": null,
      "outputs": []
    },
    {
      "cell_type": "code",
      "metadata": {
        "id": "xJaKH96ORXEz",
        "colab_type": "code",
        "colab": {
          "base_uri": "https://localhost:8080/",
          "height": 35
        },
        "outputId": "8362ff2d-8f87-4874-e0a0-742d1bc8303b"
      },
      "source": [
        "test_labels = test_datagen.classes\n",
        "predictions = test_model.predict(test_datagen, steps=259, verbose=1)"
      ],
      "execution_count": null,
      "outputs": [
        {
          "output_type": "stream",
          "text": [
            "259/259 [==============================] - 6s 24ms/step\n"
          ],
          "name": "stdout"
        }
      ]
    },
    {
      "cell_type": "markdown",
      "metadata": {
        "id": "ZUvuHixNTso2",
        "colab_type": "text"
      },
      "source": [
        "# Confusion Matrix"
      ]
    },
    {
      "cell_type": "code",
      "metadata": {
        "id": "bMihx4QyRGUp",
        "colab_type": "code",
        "colab": {}
      },
      "source": [
        "cm = confusion_matrix(test_labels, predictions.argmax(axis=1))\n",
        "\n",
        "cm_plot_labels = ['paper', 'cardboard', 'trash', 'metal', 'glass', 'plastic']"
      ],
      "execution_count": null,
      "outputs": []
    },
    {
      "cell_type": "code",
      "metadata": {
        "id": "gj265qgMSIbb",
        "colab_type": "code",
        "colab": {
          "base_uri": "https://localhost:8080/",
          "height": 423
        },
        "outputId": "baf31848-4066-4d80-cafb-73b7b454f8b5"
      },
      "source": [
        "plot_confusion_matrix(cm, cm_plot_labels)"
      ],
      "execution_count": null,
      "outputs": [
        {
          "output_type": "stream",
          "text": [
            "Confusion matrix, without normalization\n",
            "[[36  0  0  6  0  0]\n",
            " [ 0 49  0  0  2  0]\n",
            " [ 1  1 39  0  0  1]\n",
            " [ 3  0  1 54  0  2]\n",
            " [ 0  2  2  1 43  1]\n",
            " [ 2  0  0  0  0 13]]\n"
          ],
          "name": "stdout"
        },
        {
          "output_type": "display_data",
          "data": {
            "image/png": "[encoded data removed]",
            "text/plain": [
              "<Figure size 432x288 with 2 Axes>"
            ]
          },
          "metadata": {
            "tags": [],
            "needs_background": "light"
          }
        }
      ]
    },
    {
      "cell_type": "code",
      "metadata": {
        "id": "rTZJBSVRSLNu",
        "colab_type": "code",
        "colab": {
          "base_uri": "https://localhost:8080/",
          "height": 423
        },
        "outputId": "1f67a600-3883-40bf-a939-ead626b05d06"
      },
      "source": [
        "plot_confusion_matrix(cm, cm_plot_labels, True)"
      ],
      "execution_count": null,
      "outputs": [
        {
          "output_type": "stream",
          "text": [
            "Normalized confusion matrix\n",
            "[[0.85714286 0.         0.         0.14285714 0.         0.        ]\n",
            " [0.         0.96078431 0.         0.         0.03921569 0.        ]\n",
            " [0.02380952 0.02380952 0.92857143 0.         0.         0.02380952]\n",
            " [0.05       0.         0.01666667 0.9        0.         0.03333333]\n",
            " [0.         0.04081633 0.04081633 0.02040816 0.87755102 0.02040816]\n",
            " [0.13333333 0.         0.         0.         0.         0.86666667]]\n"
          ],
          "name": "stdout"
        },
        {
          "output_type": "display_data",
          "data": {
            "image/png": "[encoded data removed]",
            "text/plain": [
              "<Figure size 432x288 with 2 Axes>"
            ]
          },
          "metadata": {
            "tags": [],
            "needs_background": "light"
          }
        }
      ]
    },
    {
      "cell_type": "code",
      "metadata": {
        "id": "XxbSCrPORQpD",
        "colab_type": "code",
        "colab": {
          "base_uri": "https://localhost:8080/",
          "height": 395
        },
        "outputId": "9a46a3bb-55aa-4cec-e70a-8ff7721c10f8"
      },
      "source": [
        "y_pred = np.argmax(predictions, axis=1)\n",
        "print('Confusion Matrix')\n",
        "print(confusion_matrix(test_labels, y_pred))\n",
        "print('Classification Report')\n",
        "print(classification_report(test_labels, y_pred, target_names=cm_plot_labels))"
      ],
      "execution_count": null,
      "outputs": [
        {
          "output_type": "stream",
          "text": [
            "Confusion Matrix\n",
            "[[36  0  0  6  0  0]\n",
            " [ 0 49  0  0  2  0]\n",
            " [ 1  1 39  0  0  1]\n",
            " [ 3  0  1 54  0  2]\n",
            " [ 0  2  2  1 43  1]\n",
            " [ 2  0  0  0  0 13]]\n",
            "Classification Report\n",
            "              precision    recall  f1-score   support\n",
            "\n",
            "       paper       0.86      0.86      0.86        42\n",
            "   cardboard       0.94      0.96      0.95        51\n",
            "       trash       0.93      0.93      0.93        42\n",
            "       metal       0.89      0.90      0.89        60\n",
            "       glass       0.96      0.88      0.91        49\n",
            "     plastic       0.76      0.87      0.81        15\n",
            "\n",
            "    accuracy                           0.90       259\n",
            "   macro avg       0.89      0.90      0.89       259\n",
            "weighted avg       0.91      0.90      0.90       259\n",
            "\n"
          ],
          "name": "stdout"
        }
      ]
    }
  ]
}